{
  "nbformat": 4,
  "nbformat_minor": 0,
  "metadata": {
    "colab": {
      "provenance": []
    },
    "kernelspec": {
      "name": "python3",
      "display_name": "Python 3"
    },
    "language_info": {
      "name": "python"
    }
  },
  "cells": [
    {
      "cell_type": "code",
      "execution_count": 3,
      "metadata": {
        "colab": {
          "base_uri": "https://localhost:8080/"
        },
        "id": "kxqLap-J4d_m",
        "outputId": "ff300ed6-1429-4e49-da9c-84262dcd9e56"
      },
      "outputs": [
        {
          "output_type": "stream",
          "name": "stdout",
          "text": [
            "\n",
            "Data saved to faculty_data.csv\n",
            "\n",
            "Data from the file content:\n",
            "                                           ImageURL                   Name  \\\n",
            "0                       /Images/Profile/CS/4553.jpg         Waseem Shahzad   \n",
            "1    /Images/Profile/CS/36292021-01-21_23.28.18.jpg           Kashif Munir   \n",
            "2                       /Images/Profile/CS/4400.jpg          Hammad Majeed   \n",
            "3                       /Images/Profile/CS/4551.jpg   Hasan Mujtaba Kiyani   \n",
            "4                       /Images/Profile/CS/5099.jpg          Muhammad Asim   \n",
            "..                                              ...                    ...   \n",
            "199                     /Images/Profile/SH/5354.jpg  Sehrish Hassan Shigri   \n",
            "200                      /Images/user/avatar_2x.png             Sana Ilyas   \n",
            "201                      /Images/user/avatar_2x.png           Zunera Malik   \n",
            "202                     /Images/Profile/SH/9341.jpg           Sadia Nauman   \n",
            "203                     /Images/Profile/SH/9529.jpg           Sumera Abbas   \n",
            "\n",
            "                                           Designation  \\\n",
            "0                                 Director & Professor   \n",
            "1                Head, School of Computing & Professor   \n",
            "2                   HoD (Computer Science) & Professor   \n",
            "3    HoD (Artificial Intelligence & Data Science) &...   \n",
            "4                     HoD (Cyber Security) & Professor   \n",
            "..                                                 ...   \n",
            "199                                           Lecturer   \n",
            "200                                           Lecturer   \n",
            "201                                           Lecturer   \n",
            "202                                           Lecturer   \n",
            "203                                           Lecturer   \n",
            "\n",
            "                        Email    ID  \n",
            "0    waseem.shahzad@nu.edu.pk  4553  \n",
            "1      kashif.munir@nu.edu.pk  3629  \n",
            "2     hammad.majeed@nu.edu.pk  4400  \n",
            "3     hasan.mujtaba@nu.edu.pk  4551  \n",
            "4     muhammad.asim@nu.edu.pk  5099  \n",
            "..                        ...   ...  \n",
            "199  sehrish.hassan@nu.edu.pk  5354  \n",
            "200     sanaa.ilyas@nu.edu.pk  5898  \n",
            "201   zunaira.malik@nu.edu.pk  5902  \n",
            "202    sadia.nauman@nu.edu.pk  9341  \n",
            "203    sumera.abbas@nu.edu.pk  9529  \n",
            "\n",
            "[204 rows x 5 columns]\n"
          ]
        },
        {
          "output_type": "stream",
          "name": "stderr",
          "text": [
            "<ipython-input-3-39d862f58849>:27: DeprecationWarning: The 'text' argument to find()-type methods is deprecated. Use 'string' instead.\n",
            "  more_link = member.find('a', href=True, text='More...')\n"
          ]
        }
      ],
      "source": [
        "import pandas as pd\n",
        "from bs4 import BeautifulSoup\n",
        "\n",
        "# Read the HTML content from the file\n",
        "with open('not.txt', 'r', encoding='utf-8') as file:\n",
        "    html_content = file.read()\n",
        "\n",
        "# Function to scrape faculty members from HTML\n",
        "def scrape_faculty_from_html(html):\n",
        "    soup = BeautifulSoup(html, 'html.parser')\n",
        "    faculty_members = soup.find_all('div', class_='our-team')\n",
        "\n",
        "    if not faculty_members:\n",
        "        return None\n",
        "\n",
        "    picture_urls = []\n",
        "    titles = []\n",
        "    posts = []\n",
        "    emails = []\n",
        "    numeric_ids = []\n",
        "\n",
        "    for member in faculty_members:\n",
        "        picture_url = member.find('img')['src']\n",
        "        title = member.find('h3', class_='title').text\n",
        "        post = member.find('span', class_='post').text\n",
        "        email = member.find('p').text.strip()\n",
        "        more_link = member.find('a', href=True, text='More...')\n",
        "        numeric_id = more_link['href'].split('/')[-1] if more_link else None\n",
        "\n",
        "        picture_urls.append(picture_url)\n",
        "        titles.append(title)\n",
        "        posts.append(post)\n",
        "        emails.append(email)\n",
        "        numeric_ids.append(numeric_id)\n",
        "\n",
        "    data = {\n",
        "        'ImageURL': picture_urls,\n",
        "        'Name': titles,\n",
        "        'Designation': posts,\n",
        "        'Email': emails,\n",
        "        'ID': numeric_ids\n",
        "    }\n",
        "\n",
        "    df = pd.DataFrame(data)\n",
        "    return df\n",
        "\n",
        "# Scrape faculty from the HTML content\n",
        "df_file = scrape_faculty_from_html(html_content)\n",
        "\n",
        "# Save the data to a CSV file\n",
        "df_file.to_csv('faculty_data.csv', index=False)\n",
        "\n",
        "# # Print the result for the file content\n",
        "# print(\"\\nData from the file content:\")\n",
        "# print(df_file)\n",
        "\n",
        "print(\"\\nData saved to faculty_data.csv\")\n",
        "\n",
        "# Print the result for the file content\n",
        "print(\"\\nData from the file content:\")\n",
        "print(df_file)"
      ]
    },
    {
      "cell_type": "code",
      "source": [],
      "metadata": {
        "id": "PLLmxoBO6pRq"
      },
      "execution_count": null,
      "outputs": []
    }
  ]
}
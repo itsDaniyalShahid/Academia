{
  "nbformat": 4,
  "nbformat_minor": 0,
  "metadata": {
    "colab": {
      "provenance": []
    },
    "kernelspec": {
      "name": "python3",
      "display_name": "Python 3"
    },
    "language_info": {
      "name": "python"
    }
  },
  "cells": [
    {
      "cell_type": "code",
      "execution_count": null,
      "metadata": {
        "id": "BQqCcP6sNjVc"
      },
      "outputs": [],
      "source": [
        "import requests\n",
        "from bs4 import BeautifulSoup\n",
        "import pandas as pd"
      ]
    },
    {
      "cell_type": "code",
      "source": [
        "URL = \"https://khi.nu.edu.pk/\"\n",
        "r = requests.get(URL)\n",
        "print(r)"
      ],
      "metadata": {
        "colab": {
          "base_uri": "https://localhost:8080/"
        },
        "id": "u4lRpwCGNkF4",
        "outputId": "7591bc46-6ad8-4bcd-fc70-7268781a6e9b"
      },
      "execution_count": null,
      "outputs": [
        {
          "output_type": "stream",
          "name": "stdout",
          "text": [
            "<Response [200]>\n"
          ]
        }
      ]
    },
    {
      "cell_type": "code",
      "source": [
        "soup = BeautifulSoup(r.content, 'html.parser')\n",
        "#print(soup.prettify())"
      ],
      "metadata": {
        "id": "H9vrSf4iNkHL"
      },
      "execution_count": null,
      "outputs": []
    },
    {
      "cell_type": "code",
      "source": [
        "f = soup.findAll('div', class_='kingster-page-wrapper')\n"
      ],
      "metadata": {
        "id": "GJVv1W0yNkLG"
      },
      "execution_count": null,
      "outputs": []
    },
    {
      "cell_type": "code",
      "source": [
        "#URL1 =  \"https://khi.nu.edu.pk/department-of-sciences-humanities/\"\n",
        "#r1 = requests.get(URL1)\n",
        "#print(r1)"
      ],
      "metadata": {
        "colab": {
          "base_uri": "https://localhost:8080/"
        },
        "id": "i5mrVwCUNkMX",
        "outputId": "187fa1fd-e7f3-46c3-ca31-614495b1b95b"
      },
      "execution_count": null,
      "outputs": [
        {
          "output_type": "stream",
          "name": "stdout",
          "text": [
            "<Response [200]>\n"
          ]
        }
      ]
    },
    {
      "cell_type": "code",
      "source": [
        "#soup = BeautifulSoup(r1.content, 'html.parser')\n"
      ],
      "metadata": {
        "id": "VMcmTIsQafbz"
      },
      "execution_count": null,
      "outputs": []
    },
    {
      "cell_type": "code",
      "source": [
        "#facu= soup.find_all('div', class_='gdlr-core-personnel-list-column')\n"
      ],
      "metadata": {
        "id": "6-gwp0ecafn6"
      },
      "execution_count": null,
      "outputs": []
    },
    {
      "cell_type": "code",
      "source": [
        "\n",
        "name = facu[0].find('h3', class_='gdlr-core-personnel-list-title').text.strip()\n",
        "designation = facu[0].find('div', class_='gdlr-core-personnel-list-position').text.strip()\n",
        "id_v= facu[0].find('div', class_='kingster-type-phone')\n",
        "id = ''.join(id_v.stripped_strings)\n",
        "email = facu[0].find('div', class_='kingster-type-email').text\n",
        "\n"
      ],
      "metadata": {
        "id": "tCtNqde6bsId"
      },
      "execution_count": null,
      "outputs": []
    },
    {
      "cell_type": "code",
      "source": [
        "\n",
        "# List of URLs to scrape\n",
        "urls = [\n",
        "    \"https://khi.nu.edu.pk/faculty-php/\",\n",
        "    \"https://khi.nu.edu.pk/department-of-cyber-security/\",\n",
        "    \"https://khi.nu.edu.pk/department-of-artificial-intelligence/\",\n",
        "    \"https://khi.nu.edu.pk/department-of-software-engineering/\",\n",
        "    \"https://khi.nu.edu.pk/department-of-electrical-engineering/\",\n",
        "    \"https://khi.nu.edu.pk/department-of-management-sciences/\",\n",
        "    \"https://khi.nu.edu.pk/department-of-sciences-humanities/\"\n",
        "]\n",
        "\n",
        "# Initialize an empty list to store faculty information\n",
        "faculty_info = []\n",
        "dep=[]\n",
        "# Iterate through each URL\n",
        "for url in urls:\n",
        "    r = requests.get(url)\n",
        "    soup = BeautifulSoup(r.content, 'html.parser')\n",
        "\n",
        "    department = url.split('/')[-2].replace('-', ' ').title()\n",
        "\n",
        "    # Find faculty information in the HTML structure of the page\n",
        "    faculty_elements = soup.find_all('div', class_='gdlr-core-personnel-list-column')\n",
        "\n",
        "    # Extract and store faculty information\n",
        "    for faculty_element in faculty_elements:\n",
        "        name = faculty_element.find('h3', class_='gdlr-core-personnel-list-title').text.strip()\n",
        "        designation = faculty_element.find('div', class_='gdlr-core-personnel-list-position').text.strip()\n",
        "        email = faculty_element.find('div', class_='kingster-type-email').text\n",
        "        id_v= faculty_element.find('div', class_='kingster-type-phone')\n",
        "        id = ''.join(id_v.stripped_strings)\n",
        "\n",
        "# Create a new link for each faculty member to extract education\n",
        "        faculty_link = faculty_element.find('a', class_='gdlr-core-personnel-list-button')['href']\n",
        "\n",
        "        # Send a request to the education URL\n",
        "        edu_r = requests.get(faculty_link)\n",
        "        edu_soup = BeautifulSoup(edu_r.content, 'html.parser')\n",
        "        imag=faculty_element.find('a',class_='gdlr-core-lightgallery')\n",
        "\n",
        "        # Append the extracted information to the list\n",
        "        faculty_info.append({\n",
        "            'Name': name,\n",
        "            'Email': email,\n",
        "            'Designation': designation,\n",
        "            'id':id,\n",
        "            'imageURL':faculty_link,\n",
        "            'Department':department\n",
        "        })\n",
        "\n",
        "# Create a pandas DataFrame from the collected information\n",
        "faculty_df = pd.DataFrame(faculty_info)\n",
        "\n",
        "# Print the DataFrame\n",
        "print(faculty_df)\n",
        "faculty_df.to_csv('data_karachi.csv')\n",
        "# Save the DataFrame to a CSV file if needed\n",
        "# faculty_df.to_csv('faculty_information.csv', index=False)\n"
      ],
      "metadata": {
        "colab": {
          "base_uri": "https://localhost:8080/"
        },
        "id": "l0qD7vAvNkRF",
        "outputId": "8c511270-da2d-4b28-b8f8-a333a4bbd74f"
      },
      "execution_count": 216,
      "outputs": [
        {
          "output_type": "stream",
          "name": "stdout",
          "text": [
            "                                   Name                      Email  \\\n",
            "0    Prof. Dr. Zulfiqar Ali Memon , PhD   zulfiqar.memon@nu.edu.pk   \n",
            "1     Dr. Farooque Hassan Kumbhar , PhD  farooque.hassan@nu.edu.pk   \n",
            "2             Dr. Jawwad A. Shamsi, PhD    jawwad.shamsi@nu.edu.pk   \n",
            "3          Dr. Muhammad Atif Tahir, PhD       atif.tahir@nu.edu.pk   \n",
            "4                Dr. Ghufran Ahmed, PhD    ghufran.ahmed@nu.edu.pk   \n",
            "..                                  ...                        ...   \n",
            "128                    Ms. Sabeen Amjad     sabeen.amjad@nu.edu.pk   \n",
            "129                  Ms. Shahtaj Shakir     sabeen.amjad@nu.edu.pk   \n",
            "130                 Ms. Sharmeen Ismail  sharmeen.ismail@nu.edu.pk   \n",
            "131                    Syed Waqar Ahmed     swaqar.ahmed@nu.edu.pk   \n",
            "132              Ms. Syeda Atifa Batool     atifa.batool@nu.edu.pk   \n",
            "\n",
            "                      Designation   id  \\\n",
            "0               Professor and HoS  214   \n",
            "1    Associate Professor and  HOD  161   \n",
            "2                Professor & Dean  218   \n",
            "3          Professor and Director  213   \n",
            "4                       Professor  233   \n",
            "..                            ...  ...   \n",
            "128                      Lecturer  302   \n",
            "129                      Lecturer  302   \n",
            "130                      Lecturer  251   \n",
            "131                      Lecturer  253   \n",
            "132                      Lecturer  126   \n",
            "\n",
            "                                              imageURL  \\\n",
            "0    https://khi.nu.edu.pk/personnel/prof-dr-zulfiq...   \n",
            "1    https://khi.nu.edu.pk/personnel/dr-farooque-ha...   \n",
            "2    https://khi.nu.edu.pk/personnel/dr-jawwad-a-sh...   \n",
            "3    https://khi.nu.edu.pk/personnel/dr-muhammad-at...   \n",
            "4    https://khi.nu.edu.pk/personnel/dr-ghufran-ahm...   \n",
            "..                                                 ...   \n",
            "128   https://khi.nu.edu.pk/personnel/ms-sabeen-amjad/   \n",
            "129  https://khi.nu.edu.pk/personnel/ms-shahtaj-sha...   \n",
            "130  https://khi.nu.edu.pk/personnel/ms-sharmeen-is...   \n",
            "131  https://khi.nu.edu.pk/personnel/syed-waqar-ahmed/   \n",
            "132  https://khi.nu.edu.pk/personnel/ms-syeda-atifa...   \n",
            "\n",
            "                            Department  \n",
            "0                          Faculty Php  \n",
            "1                          Faculty Php  \n",
            "2                          Faculty Php  \n",
            "3                          Faculty Php  \n",
            "4                          Faculty Php  \n",
            "..                                 ...  \n",
            "128  Department Of Sciences Humanities  \n",
            "129  Department Of Sciences Humanities  \n",
            "130  Department Of Sciences Humanities  \n",
            "131  Department Of Sciences Humanities  \n",
            "132  Department Of Sciences Humanities  \n",
            "\n",
            "[133 rows x 6 columns]\n"
          ]
        }
      ]
    }
  ]
}